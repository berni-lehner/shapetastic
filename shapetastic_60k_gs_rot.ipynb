{
 "cells": [
  {
   "cell_type": "markdown",
   "metadata": {},
   "source": [
    "# Generate *Shapetastic_60k_gs_rot* data set\n",
    "60k samples from 3 elongated shapes (60k each) in grayscale.\n",
    "Always white background and black shapes with an interpolated (in terms of color) edge with varying width btw. 0 and 3.\n",
    "Rotation along every 5 degrees."
   ]
  },
  {
   "cell_type": "code",
   "execution_count": 1,
   "metadata": {
    "metadata": {}
   },
   "outputs": [],
   "source": [
    "import numpy as np\n",
    "import pandas as pd\n",
    "import random\n",
    "from pathlib import Path\n",
    "\n",
    "import matplotlib.pyplot as plt\n",
    "\n",
    "from shapes import draw_polygon, draw_ellipse, draw_rectangle, draw_parallelogram, draw_star\n",
    "from plot_utils import create_sample\n",
    "from param_utils import create_parameter_combinations"
   ]
  },
  {
   "cell_type": "code",
   "execution_count": 2,
   "metadata": {
    "metadata": {}
   },
   "outputs": [],
   "source": [
    "random.seed(23)\n",
    "\n",
    "DATA_PATH = Path(r\"D:\\data\\shapetastic_60k_gs_rot\")\n",
    "\n",
    "background_color = 'white'\n",
    "rotation_angles = np.linspace(0, 175, 36)\n",
    "\n",
    "PIXEL_WIDTH = 200\n",
    "PIXEL_HEIGHT = 200\n",
    "\n",
    "N_SAMPLES = 60000"
   ]
  },
  {
   "cell_type": "code",
   "execution_count": 3,
   "metadata": {
    "metadata": {}
   },
   "outputs": [],
   "source": [
    "def dump_samples(plot_function, parameter_combinations):\n",
    "    file_names = []\n",
    "    plot_functions = []\n",
    "    background_colors = []\n",
    "    # Turn off interactive plotting\n",
    "    plt.ioff()\n",
    "    for i, params in enumerate(parameter_combinations):\n",
    "        file_name = Path(DATA_PATH, plot_function.__name__, str(i) + '.png')\n",
    "        create_sample(PIXEL_WIDTH, PIXEL_HEIGHT, background_color, file_name=file_name, plot_function=plot_function, **params)\n",
    "        plt.close()\n",
    "\n",
    "        file_names.append(file_name.name)\n",
    "        plot_functions.append(file_name.parent.relative_to(file_name.parent.parent))\n",
    "\n",
    "    df = pd.DataFrame(parameter_combinations)\n",
    "    df['background_color'] = [background_color] * len(parameter_combinations)\n",
    "    df['plot_function'] = plot_functions\n",
    "    df['file_name'] = file_names\n",
    "\n",
    "    file_name = DATA_PATH / Path(plot_function.__name__ + \".csv\")\n",
    "    df.to_csv(file_name, sep=',', encoding='utf-8', index=False)"
   ]
  },
  {
   "cell_type": "markdown",
   "metadata": {},
   "source": [
    "## Generate Ellipses"
   ]
  },
  {
   "cell_type": "code",
   "execution_count": 4,
   "metadata": {
    "metadata": {}
   },
   "outputs": [],
   "source": [
    "parameters = {\n",
    "    'x': np.round(np.linspace(0.45, 0.55, 11), 2),\n",
    "    'y': np.round(np.linspace(0.45, 0.55, 11), 2),\n",
    "    'width': np.round(np.linspace(0.3, 0.9, 8), 2),\n",
    "    'height': np.round(np.linspace(0.1, 0.2, 8), 2),\n",
    "    'color': 'black',\n",
    "    'rotation_angle': rotation_angles,\n",
    "    'outline': 'interpolate',\n",
    "    'linewidth': [1,2,3]}"
   ]
  },
  {
   "cell_type": "code",
   "execution_count": 5,
   "metadata": {
    "metadata": {}
   },
   "outputs": [
    {
     "name": "stdout",
     "output_type": "stream",
     "text": [
      "836352\n"
     ]
    }
   ],
   "source": [
    "parameter_combinations = create_parameter_combinations(parameters)\n",
    "print(len(parameter_combinations))\n",
    "\n",
    "parameter_combinations = random.sample(parameter_combinations, N_SAMPLES)\n",
    "\n",
    "dump_samples(draw_ellipse, parameter_combinations)"
   ]
  },
  {
   "cell_type": "markdown",
   "metadata": {},
   "source": [
    "## Generate Rectangles"
   ]
  },
  {
   "cell_type": "code",
   "execution_count": 6,
   "metadata": {
    "metadata": {}
   },
   "outputs": [],
   "source": [
    "parameters = {\n",
    "    'x': np.round(np.linspace(0.45, 0.55, 11), 2),\n",
    "    'y': np.round(np.linspace(0.45, 0.55, 11), 2),\n",
    "    'width': np.round(np.linspace(0.3, 0.9, 8), 2),\n",
    "    'height': np.round(np.linspace(0.1, 0.2, 8), 2),\n",
    "    'color': 'black',\n",
    "    'rotation_angle': rotation_angles,\n",
    "    'outline': 'interpolate',\n",
    "    'linewidth': [1,2,3]}"
   ]
  },
  {
   "cell_type": "code",
   "execution_count": 7,
   "metadata": {
    "metadata": {}
   },
   "outputs": [
    {
     "name": "stdout",
     "output_type": "stream",
     "text": [
      "836352\n"
     ]
    }
   ],
   "source": [
    "parameter_combinations = create_parameter_combinations(parameters)\n",
    "print(len(parameter_combinations))\n",
    "\n",
    "parameter_combinations = random.sample(parameter_combinations, N_SAMPLES)\n",
    "\n",
    "dump_samples(draw_rectangle, parameter_combinations)"
   ]
  },
  {
   "cell_type": "markdown",
   "metadata": {},
   "source": [
    "## Generate Parallelograms"
   ]
  },
  {
   "cell_type": "code",
   "execution_count": 8,
   "metadata": {
    "metadata": {}
   },
   "outputs": [],
   "source": [
    "parameters = {\n",
    "    'x': np.round(np.linspace(0.45, 0.55, 11), 2),\n",
    "    'y': np.round(np.linspace(0.45, 0.55, 11), 2),\n",
    "    'width': np.round(np.linspace(0.2, 0.48, 6), 2),\n",
    "    'height': np.round(np.linspace(0.1, 0.18, 6), 2),\n",
    "    'skew': np.linspace(0, 45, 7),\n",
    "    'color': 'black',\n",
    "    'rotation_angle': rotation_angles,\n",
    "    'outline': 'interpolate',\n",
    "    'linewidth': [1,2,3]}"
   ]
  },
  {
   "cell_type": "code",
   "execution_count": 9,
   "metadata": {
    "metadata": {}
   },
   "outputs": [
    {
     "name": "stdout",
     "output_type": "stream",
     "text": [
      "3293136\n"
     ]
    }
   ],
   "source": [
    "parameter_combinations = create_parameter_combinations(parameters)\n",
    "print(len(parameter_combinations))\n",
    "\n",
    "parameter_combinations = random.sample(parameter_combinations, N_SAMPLES)\n",
    "\n",
    "dump_samples(draw_parallelogram, parameter_combinations)"
   ]
  }
 ],
 "metadata": {
  "kernelspec": {
   "display_name": "py310ml",
   "language": "python",
   "name": "python3"
  },
  "language_info": {
   "codemirror_mode": {
    "name": "ipython",
    "version": 3
   },
   "file_extension": ".py",
   "mimetype": "text/x-python",
   "name": "python",
   "nbconvert_exporter": "python",
   "pygments_lexer": "ipython3",
   "version": "3.10.13"
  }
 },
 "nbformat": 4,
 "nbformat_minor": 2
}
