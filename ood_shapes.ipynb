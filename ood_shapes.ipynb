{
 "cells": [
  {
   "cell_type": "code",
   "execution_count": null,
   "metadata": {},
   "outputs": [],
   "source": [
    "import numpy as np\n",
    "import pandas as pd\n",
    "import random\n",
    "from pathlib import Path\n",
    "\n",
    "import matplotlib.pyplot as plt\n",
    "\n",
    "from shapes import draw_polygon, draw_ellipse, draw_rectangle, draw_parallelogram, draw_star\n",
    "from plot_utils import create_sample\n",
    "from param_utils import create_parameter_combinations"
   ]
  },
  {
   "cell_type": "code",
   "execution_count": null,
   "metadata": {},
   "outputs": [],
   "source": [
    "import matplotlib.colors as mcolors\n",
    "\n",
    "color_names = list(mcolors.cnames.keys())\n",
    "len(color_names)"
   ]
  },
  {
   "cell_type": "code",
   "execution_count": null,
   "metadata": {},
   "outputs": [],
   "source": [
    "parameters = {\n",
    "    'x': np.round(np.linspace(0.45, 0.55, 11), 2),\n",
    "    'y': np.round(np.linspace(0.45, 0.55, 11), 2),\n",
    "    'radius': np.round(np.linspace(0.1, 0.45, 8), 2),\n",
    "    'n_points': range(3,8),\n",
    "    'color': 'black',#color_names,\n",
    "    'rotation_angle': np.linspace(0, 330, 12),\n",
    "    'outline': 'interpolate',#color_names,\n",
    "    'linewidth': [1,2,3]}"
   ]
  },
  {
   "cell_type": "code",
   "execution_count": null,
   "metadata": {},
   "outputs": [],
   "source": [
    "parameter_combinations = create_parameter_combinations(parameters)\n",
    "print(len(parameter_combinations))\n",
    "\n",
    "\n",
    "\n",
    "DATA_PATH = Path(r\"D:\\data\\shapetastic\")\n",
    "\n",
    "background_color = 'white'\n",
    "\n",
    "PIXEL_WIDTH = 200\n",
    "PIXEL_HEIGHT = 200\n",
    "\n",
    "parameter_combinations = random.sample(parameter_combinations, 10000)\n",
    "parameter_combinations\n",
    "\n",
    "plot_function = draw_polygon\n",
    "\n",
    "# Turn off interactive plotting\n",
    "plt.ioff()\n",
    "for i, params in enumerate(parameter_combinations):\n",
    "    file_name = Path(DATA_PATH, plot_function.__name__, str(i))\n",
    "    create_sample(PIXEL_WIDTH, PIXEL_HEIGHT, background_color, file_name=file_name, plot_function=plot_function, **params)\n",
    "    plt.close()"
   ]
  },
  {
   "cell_type": "code",
   "execution_count": null,
   "metadata": {},
   "outputs": [],
   "source": [
    "parameters = {\n",
    "    'x': np.round(np.linspace(0.45, 0.55, 11), 2),\n",
    "    'y': np.round(np.linspace(0.45, 0.55, 11), 2),\n",
    "    'width': np.round(np.linspace(0.1, 0.9, 8), 2),\n",
    "    'height': np.round(np.linspace(0.1, 0.9, 8), 2),\n",
    "    'color': 'black',#color_names,\n",
    "    'rotation_angle': np.linspace(0, 330, 12),\n",
    "    'outline': 'interpolate',#color_names,\n",
    "    'linewidth': [1,2,3]}"
   ]
  },
  {
   "cell_type": "code",
   "execution_count": null,
   "metadata": {},
   "outputs": [],
   "source": [
    "parameter_combinations = create_parameter_combinations(parameters)\n",
    "print(len(parameter_combinations))\n",
    "\n",
    "\n",
    "parameter_combinations = random.sample(parameter_combinations, 10000)\n",
    "parameter_combinations\n",
    "\n",
    "plot_function = draw_ellipse\n",
    "\n",
    "# Turn off interactive plotting\n",
    "plt.ioff()\n",
    "for i, params in enumerate(parameter_combinations):\n",
    "    file_name = Path(DATA_PATH, plot_function.__name__, str(i))\n",
    "    create_sample(PIXEL_WIDTH, PIXEL_HEIGHT, background_color, file_name=file_name, plot_function=plot_function, **params)\n",
    "    plt.close()"
   ]
  },
  {
   "cell_type": "code",
   "execution_count": null,
   "metadata": {},
   "outputs": [],
   "source": [
    "parameters = {\n",
    "    'x': np.round(np.linspace(0.45, 0.55, 11), 2),\n",
    "    'y': np.round(np.linspace(0.45, 0.55, 11), 2),\n",
    "    'width': np.round(np.linspace(0.1, 0.7, 7), 2),\n",
    "    'height': np.round(np.linspace(0.1, 0.7, 7), 2),\n",
    "    'color': 'black',#color_names,\n",
    "    'rotation_angle': np.linspace(0, 330, 12),\n",
    "    'outline': 'interpolate',#color_names,\n",
    "    'linewidth': [1,2,3]}"
   ]
  },
  {
   "cell_type": "code",
   "execution_count": null,
   "metadata": {},
   "outputs": [],
   "source": [
    "np.round(np.linspace(0.1, 0.7, 7),2)"
   ]
  },
  {
   "cell_type": "code",
   "execution_count": null,
   "metadata": {},
   "outputs": [],
   "source": [
    "parameter_combinations = create_parameter_combinations(parameters)\n",
    "print(len(parameter_combinations))\n",
    "\n",
    "\n",
    "parameter_combinations = random.sample(parameter_combinations, 10000)\n",
    "parameter_combinations\n",
    "\n",
    "plot_function = draw_rectangle\n",
    "\n",
    "# Turn off interactive plotting\n",
    "plt.ioff()\n",
    "for i, params in enumerate(parameter_combinations):\n",
    "    file_name = Path(DATA_PATH, plot_function.__name__, str(i))\n",
    "    create_sample(PIXEL_WIDTH, PIXEL_HEIGHT, background_color, file_name=file_name, plot_function=plot_function, **params)\n",
    "    plt.close()"
   ]
  },
  {
   "cell_type": "code",
   "execution_count": null,
   "metadata": {},
   "outputs": [],
   "source": [
    "parameters = {\n",
    "    'x': np.round(np.linspace(0.45, 0.55, 11), 2),\n",
    "    'y': np.round(np.linspace(0.45, 0.55, 11), 2),\n",
    "    'width': np.round(np.linspace(0.2, 0.48, 6), 2),\n",
    "    'height': np.round(np.linspace(0.2, 0.48, 6), 2),\n",
    "    'skew': np.linspace(0, 45, 7),\n",
    "    'color': 'black',#color_names,\n",
    "    'rotation_angle': np.linspace(0, 330, 12),\n",
    "    'outline': 'interpolate',#color_names,\n",
    "    'linewidth': [1,2,3]}"
   ]
  },
  {
   "cell_type": "code",
   "execution_count": null,
   "metadata": {},
   "outputs": [],
   "source": [
    "parameter_combinations = create_parameter_combinations(parameters)\n",
    "print(len(parameter_combinations))\n",
    "\n",
    "\n",
    "parameter_combinations = random.sample(parameter_combinations, 10000)\n",
    "parameter_combinations\n",
    "\n",
    "plot_function = draw_parallelogram\n",
    "\n",
    "# Turn off interactive plotting\n",
    "plt.ioff()\n",
    "for i, params in enumerate(parameter_combinations):\n",
    "    file_name = Path(DATA_PATH, plot_function.__name__, str(i))\n",
    "    create_sample(PIXEL_WIDTH, PIXEL_HEIGHT, background_color, file_name=file_name, plot_function=plot_function, **params)\n",
    "    plt.close()"
   ]
  },
  {
   "cell_type": "code",
   "execution_count": null,
   "metadata": {},
   "outputs": [],
   "source": [
    "parameters = {\n",
    "    'x': np.round(np.linspace(0.45, 0.55, 11), 2),\n",
    "    'y': np.round(np.linspace(0.45, 0.55, 11), 2),\n",
    "    'outer_radius': np.round(np.linspace(0.35, 0.45, 6), 2),\n",
    "    'inner_radius': np.round(np.linspace(0.1, 0.3, 6), 2),\n",
    "    'num_peaks': [3,4,5,6,7],\n",
    "    'color': 'black',#color_names,\n",
    "    'rotation_angle': np.linspace(0, 330, 12),\n",
    "    'outline': 'interpolate',#color_names,\n",
    "    'linewidth': [1,2,3]}"
   ]
  },
  {
   "cell_type": "code",
   "execution_count": null,
   "metadata": {},
   "outputs": [],
   "source": [
    "parameter_combinations = create_parameter_combinations(parameters)\n",
    "print(len(parameter_combinations))\n",
    "\n",
    "\n",
    "parameter_combinations = random.sample(parameter_combinations, 10000)\n",
    "parameter_combinations\n",
    "\n",
    "plot_function = draw_star\n",
    "\n",
    "# Turn off interactive plotting\n",
    "plt.ioff()\n",
    "for i, params in enumerate(parameter_combinations):\n",
    "    file_name = Path(DATA_PATH, plot_function.__name__, str(i))\n",
    "    create_sample(PIXEL_WIDTH, PIXEL_HEIGHT, background_color, file_name=file_name, plot_function=plot_function, **params)\n",
    "    plt.close()"
   ]
  }
 ],
 "metadata": {
  "kernelspec": {
   "display_name": "py310ml",
   "language": "python",
   "name": "python3"
  },
  "language_info": {
   "codemirror_mode": {
    "name": "ipython",
    "version": 3
   },
   "file_extension": ".py",
   "mimetype": "text/x-python",
   "name": "python",
   "nbconvert_exporter": "python",
   "pygments_lexer": "ipython3",
   "version": "3.10.12"
  }
 },
 "nbformat": 4,
 "nbformat_minor": 2
}
